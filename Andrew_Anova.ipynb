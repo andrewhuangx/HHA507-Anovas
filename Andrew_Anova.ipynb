{
  "nbformat": 4,
  "nbformat_minor": 0,
  "metadata": {
    "colab": {
      "name": "Andrew_Anova.ipynb",
      "provenance": [],
      "authorship_tag": "ABX9TyMfLEgsgLzdYom+IvnC1EFn",
      "include_colab_link": true
    },
    "kernelspec": {
      "name": "python3",
      "display_name": "Python 3"
    },
    "language_info": {
      "name": "python"
    }
  },
  "cells": [
    {
      "cell_type": "markdown",
      "metadata": {
        "id": "view-in-github",
        "colab_type": "text"
      },
      "source": [
        "<a href=\"https://colab.research.google.com/github/andrewhuangx/HHA507-Anovas/blob/main/Andrew_Anova.ipynb\" target=\"_parent\"><img src=\"https://colab.research.google.com/assets/colab-badge.svg\" alt=\"Open In Colab\"/></a>"
      ]
    },
    {
      "cell_type": "markdown",
      "metadata": {
        "id": "vRkFe7x8so3N"
      },
      "source": [
        "Import Packages"
      ]
    },
    {
      "cell_type": "code",
      "metadata": {
        "id": "X5JQULYZsl7S"
      },
      "source": [
        "import pandas as pd\n",
        "import seaborn as sns\n",
        "import scipy.stats as stats\n",
        "import statsmodels.formula.api as smf\n",
        "from scipy.stats import f_oneway\n",
        "import matplotlib.pyplot as plt\n",
        "from scipy.stats import kurtosis, skew, bartlett\n",
        "import statsmodels.stats.multicomp as mc\n",
        "import numpy as np"
      ],
      "execution_count": 91,
      "outputs": []
    },
    {
      "cell_type": "markdown",
      "metadata": {
        "id": "1mWJFnaWsxI7"
      },
      "source": [
        "Import dataset"
      ]
    },
    {
      "cell_type": "code",
      "metadata": {
        "id": "PY9FJ4XJszpm"
      },
      "source": [
        "stroke = pd.read_csv('https://raw.githubusercontent.com/andrewhuangx/HHA507-Anovas/main/healthcare-dataset-stroke-data.csv')"
      ],
      "execution_count": 17,
      "outputs": []
    },
    {
      "cell_type": "markdown",
      "metadata": {
        "id": "CJ7DyAFRs23z"
      },
      "source": [
        "Identify Variables"
      ]
    },
    {
      "cell_type": "code",
      "metadata": {
        "colab": {
          "base_uri": "https://localhost:8080/"
        },
        "id": "xHDbI_jVs6qz",
        "outputId": "2c902e3e-b6fc-4638-ceb2-509edff0203a"
      },
      "source": [
        "list(stroke)"
      ],
      "execution_count": 18,
      "outputs": [
        {
          "output_type": "execute_result",
          "data": {
            "text/plain": [
              "['id',\n",
              " 'gender',\n",
              " 'age',\n",
              " 'hypertension',\n",
              " 'heart_disease',\n",
              " 'ever_married',\n",
              " 'work_type',\n",
              " 'Residence_type',\n",
              " 'avg_glucose_level',\n",
              " 'bmi',\n",
              " 'smoking_status',\n",
              " 'stroke']"
            ]
          },
          "metadata": {},
          "execution_count": 18
        }
      ]
    },
    {
      "cell_type": "markdown",
      "metadata": {
        "id": "G5UTG8_5s_ye"
      },
      "source": [
        "IV: Gender, Work Type, Smoking Status\n",
        "DV: BMI"
      ]
    },
    {
      "cell_type": "markdown",
      "metadata": {
        "id": "rhaht7G91jYA"
      },
      "source": [
        "# Pre-Assumption Testing"
      ]
    },
    {
      "cell_type": "markdown",
      "metadata": {
        "id": "OfrHhDA61yQ1"
      },
      "source": [
        "## Boxplot Outliers"
      ]
    },
    {
      "cell_type": "code",
      "metadata": {
        "colab": {
          "base_uri": "https://localhost:8080/",
          "height": 279
        },
        "id": "oGq1DWoF13hA",
        "outputId": "7ea96d91-a616-479c-9bd6-608190d2a610"
      },
      "source": [
        "stroke_bmi_gender = sns.boxplot(x='gender', y= 'bmi', data=stroke)"
      ],
      "execution_count": 39,
      "outputs": [
        {
          "output_type": "display_data",
          "data": {
            "image/png": "[encoded data removed]",
            "text/plain": [
              "<Figure size 432x288 with 1 Axes>"
            ]
          },
          "metadata": {
            "needs_background": "light"
          }
        }
      ]
    },
    {
      "cell_type": "code",
      "metadata": {
        "colab": {
          "base_uri": "https://localhost:8080/",
          "height": 281
        },
        "id": "4uawUGKx2D6X",
        "outputId": "b5f7bd2f-5cb7-4e38-9db9-73db8d417c9b"
      },
      "source": [
        "stroke_bmi_worktype = sns.boxplot(x='work_type', y= 'bmi', data=stroke) "
      ],
      "execution_count": 30,
      "outputs": [
        {
          "output_type": "display_data",
          "data": {
            "image/png": "[encoded data removed]",
            "text/plain": [
              "<Figure size 432x288 with 1 Axes>"
            ]
          },
          "metadata": {
            "needs_background": "light"
          }
        }
      ]
    },
    {
      "cell_type": "code",
      "metadata": {
        "colab": {
          "base_uri": "https://localhost:8080/",
          "height": 280
        },
        "id": "18Cd6KJ02EVM",
        "outputId": "fe46f7f6-f333-4dc2-949a-d2f6d4a16010"
      },
      "source": [
        "stroke_bmi_smoking = sns.boxplot(x='smoking_status', y= 'bmi', data=stroke) "
      ],
      "execution_count": 31,
      "outputs": [
        {
          "output_type": "display_data",
          "data": {
            "image/png": "[encoded data removed]",
            "text/plain": [
              "<Figure size 432x288 with 1 Axes>"
            ]
          },
          "metadata": {
            "needs_background": "light"
          }
        }
      ]
    },
    {
      "cell_type": "markdown",
      "metadata": {
        "id": "VxZcg6wx1nCv"
      },
      "source": [
        "## Histogram Distribution"
      ]
    },
    {
      "cell_type": "code",
      "metadata": {
        "id": "0TdH9xV646rK"
      },
      "source": [
        "gender1 = stroke[stroke['gender'] == 'Male']\n",
        "gender2 = stroke[stroke['gender'] == 'Female']\n",
        "gender3 = stroke[stroke['gender'] == 'Other']"
      ],
      "execution_count": 54,
      "outputs": []
    },
    {
      "cell_type": "code",
      "metadata": {
        "colab": {
          "base_uri": "https://localhost:8080/",
          "height": 761
        },
        "id": "YspOF8pg6L2Z",
        "outputId": "2a22514a-e092-4df5-d0c2-a209c5058663"
      },
      "source": [
        "plt.hist(gender1['bmi'])\n",
        "plt.show()\n",
        "\n",
        "plt.hist(gender2['bmi'])\n",
        "plt.show()\n",
        "\n",
        "plt.hist(gender3['bmi'])\n",
        "plt.show()"
      ],
      "execution_count": 61,
      "outputs": [
        {
          "output_type": "display_data",
          "data": {
            "image/png": "[encoded data removed]",
            "text/plain": [
              "<Figure size 432x288 with 1 Axes>"
            ]
          },
          "metadata": {
            "needs_background": "light"
          }
        },
        {
          "output_type": "display_data",
          "data": {
            "image/png": "[encoded data removed]",
            "text/plain": [
              "<Figure size 432x288 with 1 Axes>"
            ]
          },
          "metadata": {
            "needs_background": "light"
          }
        },
        {
          "output_type": "display_data",
          "data": {
            "image/png": "[encoded data removed]",
            "text/plain": [
              "<Figure size 432x288 with 1 Axes>"
            ]
          },
          "metadata": {
            "needs_background": "light"
          }
        }
      ]
    },
    {
      "cell_type": "code",
      "metadata": {
        "id": "po1Td4HX7YSH"
      },
      "source": [
        "work1 = stroke[stroke['work_type'] == 'Private']\n",
        "work2 = stroke[stroke['work_type'] == 'Self-employed']\n",
        "work3 = stroke[stroke['work_type'] == 'Govt_job']\n",
        "work4 = stroke[stroke['work_type'] == 'children']\n",
        "work5 = stroke[stroke['work_type'] == 'Never_worked']"
      ],
      "execution_count": 59,
      "outputs": []
    },
    {
      "cell_type": "code",
      "metadata": {
        "colab": {
          "base_uri": "https://localhost:8080/",
          "height": 1000
        },
        "id": "_6tpr9Ja7YFd",
        "outputId": "d6b41495-4db4-44c3-cfdd-2de7e01d14c2"
      },
      "source": [
        "plt.hist(work1['bmi'])\n",
        "plt.show()\n",
        "\n",
        "plt.hist(work2['bmi'])\n",
        "plt.show()\n",
        "\n",
        "plt.hist(work3['bmi'])\n",
        "plt.show()\n",
        "\n",
        "plt.hist(work4['bmi'])\n",
        "plt.show()\n",
        "\n",
        "plt.hist(work5['bmi'])\n",
        "plt.show()"
      ],
      "execution_count": 60,
      "outputs": [
        {
          "output_type": "display_data",
          "data": {
            "image/png": "[encoded data removed]",
            "text/plain": [
              "<Figure size 432x288 with 1 Axes>"
            ]
          },
          "metadata": {
            "needs_background": "light"
          }
        },
        {
          "output_type": "display_data",
          "data": {
            "image/png": "[encoded data removed]",
            "text/plain": [
              "<Figure size 432x288 with 1 Axes>"
            ]
          },
          "metadata": {
            "needs_background": "light"
          }
        },
        {
          "output_type": "display_data",
          "data": {
            "image/png": "[encoded data removed]",
            "text/plain": [
              "<Figure size 432x288 with 1 Axes>"
            ]
          },
          "metadata": {
            "needs_background": "light"
          }
        },
        {
          "output_type": "display_data",
          "data": {
            "image/png": "[encoded data removed]",
            "text/plain": [
              "<Figure size 432x288 with 1 Axes>"
            ]
          },
          "metadata": {
            "needs_background": "light"
          }
        },
        {
          "output_type": "display_data",
          "data": {
            "image/png": "[encoded data removed]",
            "text/plain": [
              "<Figure size 432x288 with 1 Axes>"
            ]
          },
          "metadata": {
            "needs_background": "light"
          }
        }
      ]
    },
    {
      "cell_type": "code",
      "metadata": {
        "id": "ElcUYbBm6YkI"
      },
      "source": [
        "smoking1 = stroke[stroke['smoking_status'] == 'formerly smoked']\n",
        "smoking2 = stroke[stroke['smoking_status'] == 'never smoked']\n",
        "smoking3 = stroke[stroke['smoking_status'] == 'smokes']\n",
        "smoking4 = stroke[stroke['smoking_status'] == 'Unknown']"
      ],
      "execution_count": 57,
      "outputs": []
    },
    {
      "cell_type": "code",
      "metadata": {
        "colab": {
          "base_uri": "https://localhost:8080/",
          "height": 1000
        },
        "id": "b0doBQg_6xKn",
        "outputId": "1c1eb7ed-d787-426f-9a1c-dec2d62e1d6f"
      },
      "source": [
        "plt.hist(smoking1['bmi'])\n",
        "plt.show()\n",
        "\n",
        "plt.hist(smoking2['bmi'])\n",
        "plt.show()\n",
        "\n",
        "plt.hist(smoking3['bmi'])\n",
        "plt.show()\n",
        "\n",
        "plt.hist(smoking4['bmi'])\n",
        "plt.show()"
      ],
      "execution_count": 58,
      "outputs": [
        {
          "output_type": "display_data",
          "data": {
            "image/png": "[encoded data removed]",
            "text/plain": [
              "<Figure size 432x288 with 1 Axes>"
            ]
          },
          "metadata": {
            "needs_background": "light"
          }
        },
        {
          "output_type": "display_data",
          "data": {
            "image/png": "[encoded data removed]",
            "text/plain": [
              "<Figure size 432x288 with 1 Axes>"
            ]
          },
          "metadata": {
            "needs_background": "light"
          }
        },
        {
          "output_type": "display_data",
          "data": {
            "image/png": "[encoded data removed]",
            "text/plain": [
              "<Figure size 432x288 with 1 Axes>"
            ]
          },
          "metadata": {
            "needs_background": "light"
          }
        },
        {
          "output_type": "display_data",
          "data": {
            "image/png": "[encoded data removed]",
            "text/plain": [
              "<Figure size 432x288 with 1 Axes>"
            ]
          },
          "metadata": {
            "needs_background": "light"
          }
        }
      ]
    },
    {
      "cell_type": "markdown",
      "metadata": {
        "id": "PLQs8vhu5PEZ"
      },
      "source": [
        "## Homogenity"
      ]
    },
    {
      "cell_type": "code",
      "metadata": {
        "colab": {
          "base_uri": "https://localhost:8080/"
        },
        "id": "k0OfMjk95Roh",
        "outputId": "4063c4ed-f4c6-4e61-afdb-4f6c75ff59d0"
      },
      "source": [
        "stats.bartlett(stroke['bmi'][stroke['gender'] == 'Male'],\n",
        "               stroke['bmi'][stroke['gender'] == 'Female'],\n",
        "               stroke['bmi'][stroke['gender'] == 'Other'])"
      ],
      "execution_count": 126,
      "outputs": [
        {
          "output_type": "stream",
          "name": "stderr",
          "text": [
            "/usr/local/lib/python3.7/dist-packages/scipy/stats/morestats.py:2242: RuntimeWarning: divide by zero encountered in true_divide\n",
            "  denom = 1.0 + 1.0/(3*(k - 1)) * ((np.sum(1.0/(Ni - 1.0), axis=0)) -\n"
          ]
        },
        {
          "output_type": "execute_result",
          "data": {
            "text/plain": [
              "BartlettResult(statistic=nan, pvalue=nan)"
            ]
          },
          "metadata": {},
          "execution_count": 126
        }
      ]
    },
    {
      "cell_type": "code",
      "metadata": {
        "colab": {
          "base_uri": "https://localhost:8080/"
        },
        "id": "_jJnx74Y-zEb",
        "outputId": "6706961c-4d20-4bfb-b8d3-6ec50906f059"
      },
      "source": [
        "stats.bartlett(stroke['bmi'][stroke['gender'] == 'Male'],\n",
        "               stroke['bmi'][stroke['gender'] == 'Female'])"
      ],
      "execution_count": 79,
      "outputs": [
        {
          "output_type": "execute_result",
          "data": {
            "text/plain": [
              "BartlettResult(statistic=16.90145565034186, pvalue=3.9371378477504247e-05)"
            ]
          },
          "metadata": {},
          "execution_count": 79
        }
      ]
    },
    {
      "cell_type": "code",
      "metadata": {
        "colab": {
          "base_uri": "https://localhost:8080/"
        },
        "id": "zBFYRUib5s69",
        "outputId": "e2deb64b-c4e4-4485-93e3-de6e2c5e0ba6"
      },
      "source": [
        "stats.bartlett(stroke['bmi'][stroke['work_type'] == 'Private'],\n",
        "               stroke['bmi'][stroke['work_type'] == 'Self-employed'],\n",
        "               stroke['bmi'][stroke['work_type'] == 'Govt_job'],\n",
        "               stroke['bmi'][stroke['work_type'] == 'children'],\n",
        "               stroke['bmi'][stroke['work_type'] == 'Never_worked'])"
      ],
      "execution_count": 72,
      "outputs": [
        {
          "output_type": "execute_result",
          "data": {
            "text/plain": [
              "BartlettResult(statistic=238.50908281919075, pvalue=1.943176324338808e-50)"
            ]
          },
          "metadata": {},
          "execution_count": 72
        }
      ]
    },
    {
      "cell_type": "code",
      "metadata": {
        "colab": {
          "base_uri": "https://localhost:8080/"
        },
        "id": "ie_cjbO65r1l",
        "outputId": "1df323ff-aa5e-4459-f941-a4dc7d577a71"
      },
      "source": [
        "stats.bartlett(stroke['bmi'][stroke['smoking_status'] == 'formerly smoked'],\n",
        "               stroke['bmi'][stroke['smoking_status'] == 'never smoked'],\n",
        "               stroke['bmi'][stroke['smoking_status'] == 'smokes'],\n",
        "               stroke['bmi'][stroke['smoking_status'] == 'Unknown'])"
      ],
      "execution_count": 73,
      "outputs": [
        {
          "output_type": "execute_result",
          "data": {
            "text/plain": [
              "BartlettResult(statistic=33.058420374110476, pvalue=3.1305703573923616e-07)"
            ]
          },
          "metadata": {},
          "execution_count": 73
        }
      ]
    },
    {
      "cell_type": "markdown",
      "metadata": {
        "id": "G9ECVotC0XC-"
      },
      "source": [
        "# One-Way Anovas"
      ]
    },
    {
      "cell_type": "markdown",
      "metadata": {
        "id": "7Qg_fMs1MBai"
      },
      "source": [
        "Null Hypothesis – There is no significant difference among the groups"
      ]
    },
    {
      "cell_type": "markdown",
      "metadata": {
        "id": "N33I4uTKMHKz"
      },
      "source": [
        "Alternate Hypothesis – There is a significant difference among the groups"
      ]
    },
    {
      "cell_type": "code",
      "metadata": {
        "colab": {
          "base_uri": "https://localhost:8080/",
          "height": 111
        },
        "id": "qOh7EAjA0alv",
        "outputId": "5e926ab5-c428-4164-e7c0-8bec6d6a3cde"
      },
      "source": [
        "model = smf.ols(\"bmi ~ C(gender)\", data = stroke).fit()\n",
        "anova_table = sm.stats.anova_lm(model, typ=2)\n",
        "anova_table"
      ],
      "execution_count": 81,
      "outputs": [
        {
          "output_type": "execute_result",
          "data": {
            "text/html": [
              "<div>\n",
              "<style scoped>\n",
              "    .dataframe tbody tr th:only-of-type {\n",
              "        vertical-align: middle;\n",
              "    }\n",
              "\n",
              "    .dataframe tbody tr th {\n",
              "        vertical-align: top;\n",
              "    }\n",
              "\n",
              "    .dataframe thead th {\n",
              "        text-align: right;\n",
              "    }\n",
              "</style>\n",
              "<table border=\"1\" class=\"dataframe\">\n",
              "  <thead>\n",
              "    <tr style=\"text-align: right;\">\n",
              "      <th></th>\n",
              "      <th>sum_sq</th>\n",
              "      <th>df</th>\n",
              "      <th>F</th>\n",
              "      <th>PR(&gt;F)</th>\n",
              "    </tr>\n",
              "  </thead>\n",
              "  <tbody>\n",
              "    <tr>\n",
              "      <th>C(gender)</th>\n",
              "      <td>249.393368</td>\n",
              "      <td>2.0</td>\n",
              "      <td>2.022305</td>\n",
              "      <td>0.13246</td>\n",
              "    </tr>\n",
              "    <tr>\n",
              "      <th>Residual</th>\n",
              "      <td>302507.282098</td>\n",
              "      <td>4906.0</td>\n",
              "      <td>NaN</td>\n",
              "      <td>NaN</td>\n",
              "    </tr>\n",
              "  </tbody>\n",
              "</table>\n",
              "</div>"
            ],
            "text/plain": [
              "                  sum_sq      df         F   PR(>F)\n",
              "C(gender)     249.393368     2.0  2.022305  0.13246\n",
              "Residual   302507.282098  4906.0       NaN      NaN"
            ]
          },
          "metadata": {},
          "execution_count": 81
        }
      ]
    },
    {
      "cell_type": "markdown",
      "metadata": {
        "id": "ixfwOP-lMcpp"
      },
      "source": [
        "Based on the p-value from the ANOVA which is greater than 0.05, the difference between gender and bmi is not statistically significant and we are unable to reject the null hypothesis."
      ]
    },
    {
      "cell_type": "code",
      "metadata": {
        "colab": {
          "base_uri": "https://localhost:8080/",
          "height": 111
        },
        "id": "Jk6j3TVo0c5f",
        "outputId": "c13db592-0618-4783-ebe6-cb5c4e414026"
      },
      "source": [
        "model = smf.ols(\"bmi ~ C(work_type)\", data = stroke).fit()\n",
        "anova_table = sm.stats.anova_lm(model, typ=1)\n",
        "anova_table"
      ],
      "execution_count": 82,
      "outputs": [
        {
          "output_type": "execute_result",
          "data": {
            "text/html": [
              "<div>\n",
              "<style scoped>\n",
              "    .dataframe tbody tr th:only-of-type {\n",
              "        vertical-align: middle;\n",
              "    }\n",
              "\n",
              "    .dataframe tbody tr th {\n",
              "        vertical-align: top;\n",
              "    }\n",
              "\n",
              "    .dataframe thead th {\n",
              "        text-align: right;\n",
              "    }\n",
              "</style>\n",
              "<table border=\"1\" class=\"dataframe\">\n",
              "  <thead>\n",
              "    <tr style=\"text-align: right;\">\n",
              "      <th></th>\n",
              "      <th>df</th>\n",
              "      <th>sum_sq</th>\n",
              "      <th>mean_sq</th>\n",
              "      <th>F</th>\n",
              "      <th>PR(&gt;F)</th>\n",
              "    </tr>\n",
              "  </thead>\n",
              "  <tbody>\n",
              "    <tr>\n",
              "      <th>C(work_type)</th>\n",
              "      <td>4.0</td>\n",
              "      <td>61481.706012</td>\n",
              "      <td>15370.426503</td>\n",
              "      <td>312.409413</td>\n",
              "      <td>9.469087e-240</td>\n",
              "    </tr>\n",
              "    <tr>\n",
              "      <th>Residual</th>\n",
              "      <td>4904.0</td>\n",
              "      <td>241274.969453</td>\n",
              "      <td>49.199627</td>\n",
              "      <td>NaN</td>\n",
              "      <td>NaN</td>\n",
              "    </tr>\n",
              "  </tbody>\n",
              "</table>\n",
              "</div>"
            ],
            "text/plain": [
              "                  df         sum_sq       mean_sq           F         PR(>F)\n",
              "C(work_type)     4.0   61481.706012  15370.426503  312.409413  9.469087e-240\n",
              "Residual      4904.0  241274.969453     49.199627         NaN            NaN"
            ]
          },
          "metadata": {},
          "execution_count": 82
        }
      ]
    },
    {
      "cell_type": "markdown",
      "metadata": {
        "id": "N5G6_Q3yMc_L"
      },
      "source": [
        "Based on the p-value from the ANOVA which is less than 0.05, the difference between work type and bmi is statistically significant and we are able to reject the null hypothesis."
      ]
    },
    {
      "cell_type": "code",
      "metadata": {
        "colab": {
          "base_uri": "https://localhost:8080/",
          "height": 142
        },
        "id": "n9f9Msbs0dQq",
        "outputId": "47904b3f-6faf-4c21-ad95-f9fa6cd0a6b5"
      },
      "source": [
        "model = smf.ols(\"bmi ~ C(smoking_status)\", data = stroke).fit()\n",
        "anova_table = sm.stats.anova_lm(model, typ=3)\n",
        "anova_table"
      ],
      "execution_count": 83,
      "outputs": [
        {
          "output_type": "execute_result",
          "data": {
            "text/html": [
              "<div>\n",
              "<style scoped>\n",
              "    .dataframe tbody tr th:only-of-type {\n",
              "        vertical-align: middle;\n",
              "    }\n",
              "\n",
              "    .dataframe tbody tr th {\n",
              "        vertical-align: top;\n",
              "    }\n",
              "\n",
              "    .dataframe thead th {\n",
              "        text-align: right;\n",
              "    }\n",
              "</style>\n",
              "<table border=\"1\" class=\"dataframe\">\n",
              "  <thead>\n",
              "    <tr style=\"text-align: right;\">\n",
              "      <th></th>\n",
              "      <th>sum_sq</th>\n",
              "      <th>df</th>\n",
              "      <th>F</th>\n",
              "      <th>PR(&gt;F)</th>\n",
              "    </tr>\n",
              "  </thead>\n",
              "  <tbody>\n",
              "    <tr>\n",
              "      <th>Intercept</th>\n",
              "      <td>976943.489036</td>\n",
              "      <td>1.0</td>\n",
              "      <td>17099.743206</td>\n",
              "      <td>0.000000e+00</td>\n",
              "    </tr>\n",
              "    <tr>\n",
              "      <th>C(smoking_status)</th>\n",
              "      <td>22523.940045</td>\n",
              "      <td>3.0</td>\n",
              "      <td>131.414490</td>\n",
              "      <td>6.947847e-82</td>\n",
              "    </tr>\n",
              "    <tr>\n",
              "      <th>Residual</th>\n",
              "      <td>280232.735421</td>\n",
              "      <td>4905.0</td>\n",
              "      <td>NaN</td>\n",
              "      <td>NaN</td>\n",
              "    </tr>\n",
              "  </tbody>\n",
              "</table>\n",
              "</div>"
            ],
            "text/plain": [
              "                          sum_sq      df             F        PR(>F)\n",
              "Intercept          976943.489036     1.0  17099.743206  0.000000e+00\n",
              "C(smoking_status)   22523.940045     3.0    131.414490  6.947847e-82\n",
              "Residual           280232.735421  4905.0           NaN           NaN"
            ]
          },
          "metadata": {},
          "execution_count": 83
        }
      ]
    },
    {
      "cell_type": "markdown",
      "metadata": {
        "id": "t3Wm3X4XMdxG"
      },
      "source": [
        "Based on the p-value from the ANOVA which is less than 0.05, the difference between smoking status and bmi is statistically significant and we are able to reject the null hypothesis."
      ]
    },
    {
      "cell_type": "markdown",
      "metadata": {
        "id": "eqY4m5hwMPA0"
      },
      "source": [
        "# Post-Hoc Test"
      ]
    },
    {
      "cell_type": "markdown",
      "metadata": {
        "id": "KMkfZiY6TlP3"
      },
      "source": [
        "Cleaning up the dataset"
      ]
    },
    {
      "cell_type": "code",
      "metadata": {
        "id": "D1G0aCksSF_W"
      },
      "source": [
        "clean_stroke = stroke.filter(items=['gender', 'work_type', 'smoking_status', 'bmi']).dropna()"
      ],
      "execution_count": 112,
      "outputs": []
    },
    {
      "cell_type": "markdown",
      "metadata": {
        "id": "25W8pC6ZUaYb"
      },
      "source": [
        "## Tukey One Way"
      ]
    },
    {
      "cell_type": "code",
      "metadata": {
        "id": "074f9pmsMW_C"
      },
      "source": [
        "comp = mc.MultiComparison(clean_stroke['bmi'], clean_stroke['gender'])\n",
        "post_hoc_res = comp.tukeyhsd()\n",
        "tukey1 = pd.DataFrame(post_hoc_res.summary())"
      ],
      "execution_count": 119,
      "outputs": []
    },
    {
      "cell_type": "code",
      "metadata": {
        "colab": {
          "base_uri": "https://localhost:8080/"
        },
        "id": "D_9brkifOvxj",
        "outputId": "da2fcbd1-0779-4d20-adf6-5d0508dcbaf0"
      },
      "source": [
        "print(tukey1)"
      ],
      "execution_count": 120,
      "outputs": [
        {
          "output_type": "stream",
          "name": "stdout",
          "text": [
            "        0       1         2       3         4        5       6\n",
            "0  group1  group2  meandiff   p-adj     lower    upper  reject\n",
            "1  Female    Male   -0.4178  0.1591   -0.9522   0.1165   False\n",
            "2  Female   Other   -6.6658   0.658  -25.0784  11.7469   False\n",
            "3    Male   Other   -6.2479  0.6885   -24.662  12.1661   False\n"
          ]
        }
      ]
    },
    {
      "cell_type": "markdown",
      "metadata": {
        "id": "tny_-FQkTqEd"
      },
      "source": [
        "Based on the tukey one way there was no significant difference in bmi between genders."
      ]
    },
    {
      "cell_type": "code",
      "metadata": {
        "id": "kPbu1OdaQCqv"
      },
      "source": [
        "comp = mc.MultiComparison(clean_stroke['bmi'], clean_stroke['work_type'])\n",
        "post_hoc_res = comp.tukeyhsd()\n",
        "tukey2 = pd.DataFrame(post_hoc_res.summary())"
      ],
      "execution_count": 121,
      "outputs": []
    },
    {
      "cell_type": "code",
      "metadata": {
        "colab": {
          "base_uri": "https://localhost:8080/"
        },
        "id": "zlInBnEEQOTT",
        "outputId": "8d5dff6a-6d63-4c3a-ccdd-08edb0d92696"
      },
      "source": [
        "print(tukey2)"
      ],
      "execution_count": 122,
      "outputs": [
        {
          "output_type": "stream",
          "name": "stdout",
          "text": [
            "                0              1         2       3         4        5       6\n",
            "0          group1         group2  meandiff   p-adj     lower    upper  reject\n",
            "1        Govt_job   Never_worked   -4.9766  0.0095    -9.128  -0.8253    True\n",
            "2        Govt_job        Private   -0.2174     0.9   -1.0611   0.6263   False\n",
            "3        Govt_job  Self-employed   -0.3102     0.9   -1.3369   0.7166   False\n",
            "4        Govt_job       children  -10.4841   0.001  -11.5459  -9.4222    True\n",
            "5    Never_worked        Private    4.7592  0.0133    0.6625   8.8558    True\n",
            "6    Never_worked  Self-employed    4.6664  0.0179    0.5282   8.8047    True\n",
            "7    Never_worked       children   -5.5075  0.0027   -9.6545  -1.3604    True\n",
            "8         Private  Self-employed   -0.0928     0.9   -0.8693   0.6838   False\n",
            "9         Private       children  -10.2666   0.001   -11.089  -9.4442    True\n",
            "10  Self-employed       children  -10.1739   0.001  -11.1832  -9.1646    True\n"
          ]
        }
      ]
    },
    {
      "cell_type": "markdown",
      "metadata": {
        "id": "yq02Im2zT9AS"
      },
      "source": [
        "Based on the tukey one way there was a significant difference in bmi depending on work type for results 1,4-7,9,10."
      ]
    },
    {
      "cell_type": "code",
      "metadata": {
        "id": "OmI0_yzFQIhZ"
      },
      "source": [
        "comp = mc.MultiComparison(clean_stroke['bmi'], clean_stroke['smoking_status'])\n",
        "post_hoc_res = comp.tukeyhsd()\n",
        "tukey3 = pd.DataFrame(post_hoc_res.summary())"
      ],
      "execution_count": 123,
      "outputs": []
    },
    {
      "cell_type": "code",
      "metadata": {
        "colab": {
          "base_uri": "https://localhost:8080/"
        },
        "id": "Q1hcqhyVQSn-",
        "outputId": "951677d8-1c24-4f99-efd6-56db47c84081"
      },
      "source": [
        "print(tukey3)"
      ],
      "execution_count": 124,
      "outputs": [
        {
          "output_type": "stream",
          "name": "stdout",
          "text": [
            "                 0                1         2       3        4       5       6\n",
            "0           group1           group2  meandiff   p-adj    lower   upper  reject\n",
            "1          Unknown  formerly smoked    5.0808   0.001   4.2411  5.9206    True\n",
            "2          Unknown     never smoked    4.3162   0.001   3.6393  4.9931    True\n",
            "3          Unknown           smokes    4.8772   0.001   4.0018  5.7526    True\n",
            "4  formerly smoked     never smoked   -0.7646   0.072  -1.5737  0.0444   False\n",
            "5  formerly smoked           smokes   -0.2036     0.9  -1.1848  0.7776   False\n",
            "6     never smoked           smokes     0.561  0.3216   -0.285   1.407   False\n"
          ]
        }
      ]
    },
    {
      "cell_type": "markdown",
      "metadata": {
        "id": "N3ERkr6DUAEo"
      },
      "source": [
        "Based on the tukey one way there was a significant difference in bmi depending on smoking status for results 1-3."
      ]
    }
  ]
}